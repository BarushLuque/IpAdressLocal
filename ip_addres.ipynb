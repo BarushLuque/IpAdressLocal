{
  "nbformat": 4,
  "nbformat_minor": 0,
  "metadata": {
    "colab": {
      "provenance": [],
      "authorship_tag": "ABX9TyPBcziKByZpEfD0XmfbiJJM",
      "include_colab_link": true
    },
    "kernelspec": {
      "name": "python3",
      "display_name": "Python 3"
    },
    "language_info": {
      "name": "python"
    }
  },
  "cells": [
    {
      "cell_type": "markdown",
      "metadata": {
        "id": "view-in-github",
        "colab_type": "text"
      },
      "source": [
        "<a href=\"https://colab.research.google.com/github/BarushLuque/IpAdressLocal/blob/main/ip_addres.ipynb\" target=\"_parent\"><img src=\"https://colab.research.google.com/assets/colab-badge.svg\" alt=\"Open In Colab\"/></a>"
      ]
    },
    {
      "cell_type": "code",
      "execution_count": null,
      "metadata": {
        "colab": {
          "base_uri": "https://localhost:8080/"
        },
        "id": "ePr6_20mvQN9",
        "outputId": "763e114b-89fa-45f7-a84d-8f20ae3873f3"
      },
      "outputs": [
        {
          "output_type": "stream",
          "name": "stdout",
          "text": [
            "What is your target IP?: 8.8.4.4\n",
            "IP: 8.8.4.4\n",
            "City: Ashburn\n",
            "ISP: Google LLC\n",
            "Country: United States\n",
            "Region: Virginia\n",
            "Timezone: America/New_York\n",
            "Latitude: 39.03, Longitude: -77.5\n",
            "Error with geopy: Non-successful status code 403\n"
          ]
        }
      ],
      "source": [
        "import requests\n",
        "from geopy.geocoders import Nominatim\n",
        "\n",
        "# Configuración del geolocalizador\n",
        "geolocator = Nominatim(user_agent=\"geoapiExercises\")\n",
        "\n",
        "# Bucle para solicitar el ID objetivo\n",
        "while True:\n",
        "    ip = input(\"What is your target IP?: \").strip()\n",
        "    if not ip:\n",
        "        print(\"Please enter a valid IP address.\")\n",
        "        continue\n",
        "\n",
        "    # Consulta a la API para obtener datos de IP\n",
        "    url = f\"http://ip-api.com/json/{ip}\"\n",
        "    try:\n",
        "        response = requests.get(url)\n",
        "        if response.status_code != 200:\n",
        "            print(f\"Failed to get data from API. Status code: {response.status_code}\")\n",
        "            break\n",
        "        values = response.json()\n",
        "\n",
        "        if values[\"status\"] == \"fail\":\n",
        "            print(f\"Error: {values.get('message', 'Unknown error')}\")\n",
        "            break\n",
        "\n",
        "        # Mostrar información básica de la IP\n",
        "        print(\"IP: \" + values.get(\"query\", \"N/A\"))\n",
        "        print(\"City: \" + values.get(\"city\", \"N/A\"))\n",
        "        print(\"ISP: \" + values.get(\"isp\", \"N/A\"))\n",
        "        print(\"Country: \" + values.get(\"country\", \"N/A\"))\n",
        "        print(\"Region: \" + values.get(\"regionName\", \"N/A\"))\n",
        "        print(\"Timezone: \" + values.get(\"timezone\", \"N/A\"))\n",
        "\n",
        "        # Obtener latitud y longitud\n",
        "        latitude = values.get(\"lat\")\n",
        "        longitude = values.get(\"lon\")\n",
        "\n",
        "        if latitude is not None and longitude is not None:\n",
        "            print(f\"Latitude: {latitude}, Longitude: {longitude}\")\n",
        "\n",
        "            # Inversión geográfica para obtener el código del país\n",
        "            try:\n",
        "                location = geolocator.reverse((latitude, longitude), exactly_one=True)\n",
        "                if location:\n",
        "                    address = location.raw.get('address', {})\n",
        "                    country_code = address.get('country_code', 'N/A').upper()\n",
        "                    print(\"Country Code: \", country_code)\n",
        "                else:\n",
        "                    print(\"Could not retrieve address details.\")\n",
        "            except Exception as geopy_error:\n",
        "                print(f\"Error with geopy: {geopy_error}\")\n",
        "        else:\n",
        "            print(\"Latitude and longitude not found.\")\n",
        "\n",
        "        break  # Salir del bucle tras procesar una IP válida\n",
        "    except requests.RequestException as e:\n",
        "        print(f\"Error with API request: {e}\")\n",
        "        break\n"
      ]
    }
  ]
}